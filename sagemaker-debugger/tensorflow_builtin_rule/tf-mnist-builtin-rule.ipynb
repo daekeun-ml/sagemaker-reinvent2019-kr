{
 "cells": [
  {
   "cell_type": "markdown",
   "metadata": {},
   "source": [
    "# Amazon SageMaker Debugger - Using built-in rule\n",
    "\n",
    "*이 노트북은 [Amazon SageMaker Debugger - Using built-in rule (영문 원본)](https://github.com/awslabs/amazon-sagemaker-examples/blob/master/sagemaker-debugger/tensorflow_builtin_rule/tf-mnist-builtin-rule.ipynb) 의 한국어 번역입니다.*\n",
    "\n",
    "[Amazon SageMaker](https://aws.amazon.com/sagemaker/) 는 머신러닝 모델을 빌드(build), 학습(train) 및 호스팅(host)하기 위한 관리 플랫폼(managed platform)입니다. Amazon SageMaker Debugger는 거의 실시간으로 모델의 문제를 식별하고 감지하여 학습 중에 머신 러닝 모델을 디버깅 할 수있는 새로운 기능입니다.\n",
    "\n",
    "이 노트북에서는 TensorFlow 학습 작업 중에 기본 제공 규칙으로 제공된 SageMaker를 사용하는 방법을 살펴 봅니다.\n",
    "\n",
    "\n",
    "## Amazon SageMaker Debugger는 어떻게 작동합니까?\n",
    "Amazon SageMaker Debugger를 사용하면 학습 중에 loss 및 정확도(accuracy)와 같은 스칼라 값을 보는 것뿐만 아니라 학습 중에 모든 텐서가 '그래프를 통해 흐르고 있습니다(flowing through the graph)'에 대한 완벽한 가시성(full visibility)을 제공합니다. 또한 규칙을 사용하여 거의 실시간으로 학습을 모니터링하고 학습 흐름(training flow)에 불일치가 감지되면 경고를 제공합니다.\n",
    "\n",
    "\n",
    "### Concepts\n",
    "* **Tensors**: 실행 중 중간 지점(intermediate points)의 학습 네트워크 상태를 나타냅니다.\n",
    "* **Debug Hook**: 후크는 Amazon SageMaker Debugger가 학습 프로세스를 살펴보고 원하는 단계 간격으로 요청된 텐서를 캡처합니다.\n",
    "* **Rule**: 파이썬 코드로 구현된 논리적 구조로, 후크로 캡처된 텐서를 분석하고 이상점들(anomalies)을 보고할 수 있습니다.\n",
    "\n",
    "이러한 개념을 염두에 두고 Amazon SageMaker Debugger가 디버깅을 조정하는 데 사용하는 전체 흐름을 이해해 보시죠.\n",
    "\n",
    "### 학습 중 텐서 저장\n",
    "디버그 후크(Debug hook)로 캡처된 텐서는 사용자가 지정한 S3 경로에 저장됩니다. 텐서를 저장하도록 Amazon SageMaker Debugger릁 구성할 수 있는 두 가지 방법들이 있습니다.\n",
    "\n",
    "#### 학습 스크립트 미변경 (With no changes to your training script)\n",
    "Amazon SageMaker에서 제공하는 1.15 버전용 [Deep Learning Containers](https://docs.aws.amazon.com/sagemaker/latest/dg/pre-built-containers-frameworks-deep-learning.html) 중 하나를 사용하는 경우 텐서를 저장하기 위해 학습 스크립트를 변경할 필요가 없습니다. Amazon SageMaker Debugger는 사용자가 지정한 방식으로 텐서를 저장하는 작업을 생성할 때 Amazon SageMaker SDK의 Tensorflow `Estimator`를 통해 제공한 설정(configuration)을 사용합니다. 여러분은 [src/mnist_zerocodechange.py](src/mnist_zerocodechange.py)에서 사용할 스크립트를 검토할 수 있습니다. \n",
    "You will note that this is an untouched TensorFlow script which uses the `tf.estimator` interface. \n",
    "(이것은 `tf.estimator` 인터페이스를 사용하는 손길이 닿지 않은 TensorFlow 스크립트입니다.) \n",
    "Amazon SageMaker Debugger는 `tf.keras`, `tf.Estimator` 및 `tf.MonitoredSession` 인터페이스만 지원합니다. Debugger에 대한 자세한 설명은 [Amazon SageMaker Debugger with TensorFlow ](https://github.com/awslabs/sagemaker-debugger/tree/master/docs/tensorflow.md) 에서 확인할 수 있습니다.\n",
    "\n",
    "#### 텐서를 저장하기 위한 스크립트 오케스트레이션 (Orchestrating your script to store tensors)\n",
    "다른 컨테이너의 경우 여러분은 학습 스크립트를 몇 줄 변경해야 합니다. Amazon SageMaker Debugger는 이러한 텐서를 캡처하고 분석을 위해 저장할 수있는 라이브러리 `smdebug`를 제공합니다. 이 라이브러리는 사용자 정의가 매우 용이하며(highly customizable), 다른 주파수 및 다른 설정으로 여러분이 원하는 특정 텐서를 저장할 수 있습니다. 학습 스크립트에서 여러분이 선택한 프레임워크와 함께 Debugger 라이브러리를 사용하는 방법에 대한 자세한 내용은 [DeveloperGuide](https://github.com/awslabs/sagemaker-debugger/tree/master/docs)를 참조하세요. `src/mnist_byoc` 폴더에 오케스트레이션된 예제 스크립트가 있습니다. 컨테이너에 `smdebug` 라이브러리가 설치되어 있는지 반드시 확인하세요.\n",
    "\n",
    "\n",
    "### Analysis of tensors\n",
    "\n",
    "텐서가 저장되면 Amazon SageMaker Debugger에서 디버깅 규칙(***Rules***)을 실행하도록 구성할 수 있습니다. 매우 넓은 수준(very broad level)에서 규칙은 학습 중 특정 조건을 감지하는 데 사용되는 파이썬 코드입니다. 알고리즘을 학습하는 데이터 과학자가 관심을 가질 수 있는 조건 중 일부는 gradient가 너무 커지거나 작아지는지 모니터링하고 과적합(overfitting)을 감지하는 것입니다. Amazon Sagemaker Debugger에는 특정 퍼스트파티(1P) 규칙이 사전 패키지로 제공됩니다. 사용자는 Amazon Sagemaker Debugger API를 사용하여 자체 규칙을 작성할 수 있습니다. Amazon Sagemaker Debugger의 전체 API셋을 사용하여 Sagemaker 노트북과 같은 규칙 구성 외부에서 raw 텐서 데이터를 분석할 수도 있습니다. 이 노트북에서는 학습 작업에 내장 된 SageMaker 규칙을 사용하는 방법을 보여줄 뿐만 아니라 대화형 탐색을 위해 이러한 API를 살짝 살펴볼 수도 있습니다. 이러한 API에 대한 자세한 내용은 [Analysis Developer Guide](https://github.com/awslabs/sagemaker-debugger/blob/master/docs/api.md)를 참조하세요.\n",
    "\n",
    "## Setup\n",
    "Amazon SageMaker Debugger을 사용하려면 먼저 `smdebug`를 인스톨하세요. 노트북에서 대화식 분석을 수행하기 위해 필요한 라이브러리입니다."
   ]
  },
  {
   "cell_type": "code",
   "execution_count": 2,
   "metadata": {},
   "outputs": [
    {
     "name": "stdout",
     "output_type": "stream",
     "text": [
      "Collecting smdebug\n",
      "  Using cached https://files.pythonhosted.org/packages/94/15/db56468e5fd2046551144cff1ee6850a4b87c582c4e4fee76d964125d91d/smdebug-0.4.14-py2.py3-none-any.whl\n",
      "Requirement already satisfied: packaging in /home/ec2-user/anaconda3/envs/tensorflow_p36/lib/python3.6/site-packages (from smdebug) (17.1)\n",
      "Collecting aioboto3==6.4.1 (from smdebug)\n",
      "  Using cached https://files.pythonhosted.org/packages/ba/ed/3ecd0a36e9698fcd84e08a25c75b2c23c7b400df6cf816064571e450304b/aioboto3-6.4.1-py2.py3-none-any.whl\n",
      "Requirement already satisfied: protobuf>=3.6.0 in /home/ec2-user/anaconda3/envs/tensorflow_p36/lib/python3.6/site-packages (from smdebug) (3.7.1)\n",
      "Collecting botocore==1.13.32 (from smdebug)\n",
      "  Using cached https://files.pythonhosted.org/packages/0e/49/4d0c13742480779f89192d8c9f1c785115dba095826fd1118e764e513e0d/botocore-1.13.32-py2.py3-none-any.whl\n",
      "Collecting nest-asyncio (from smdebug)\n",
      "  Using cached https://files.pythonhosted.org/packages/81/f3/e59eb5fa5c41c7e6ae9741ed18534dbfae15ad29040a3927396678934b28/nest_asyncio-1.2.0-py3-none-any.whl\n",
      "Collecting aiobotocore==0.11.0 (from smdebug)\n",
      "  Using cached https://files.pythonhosted.org/packages/d6/80/c28831ec8d371eef13174f016ca82622d9523a3758e198297a49d02ba87e/aiobotocore-0.11.0-py3-none-any.whl\n",
      "Requirement already satisfied: numpy in /home/ec2-user/anaconda3/envs/tensorflow_p36/lib/python3.6/site-packages (from smdebug) (1.16.4)\n",
      "Collecting boto3==1.10.32 (from smdebug)\n",
      "  Using cached https://files.pythonhosted.org/packages/0c/8c/79b5719bdc9d7437643e806cccfd843830182962d0e7e819dfa885eb9045/boto3-1.10.32-py2.py3-none-any.whl\n",
      "Collecting aiohttp<4.0,>=3.6.0 (from smdebug)\n",
      "  Using cached https://files.pythonhosted.org/packages/7c/39/7eb5f98d24904e0f6d3edb505d4aa60e3ef83c0a58d6fe18244a51757247/aiohttp-3.6.2-cp36-cp36m-manylinux1_x86_64.whl\n",
      "Requirement already satisfied: pyparsing>=2.0.2 in /home/ec2-user/anaconda3/envs/tensorflow_p36/lib/python3.6/site-packages (from packaging->smdebug) (2.2.0)\n",
      "Requirement already satisfied: six in /home/ec2-user/anaconda3/envs/tensorflow_p36/lib/python3.6/site-packages (from packaging->smdebug) (1.11.0)\n",
      "Requirement already satisfied: setuptools in /home/ec2-user/anaconda3/envs/tensorflow_p36/lib/python3.6/site-packages (from protobuf>=3.6.0->smdebug) (41.5.1)\n",
      "Requirement already satisfied: docutils<0.16,>=0.10 in /home/ec2-user/anaconda3/envs/tensorflow_p36/lib/python3.6/site-packages (from botocore==1.13.32->smdebug) (0.14)\n",
      "Requirement already satisfied: python-dateutil<2.8.1,>=2.1; python_version >= \"2.7\" in /home/ec2-user/anaconda3/envs/tensorflow_p36/lib/python3.6/site-packages (from botocore==1.13.32->smdebug) (2.7.3)\n",
      "Requirement already satisfied: jmespath<1.0.0,>=0.7.1 in /home/ec2-user/anaconda3/envs/tensorflow_p36/lib/python3.6/site-packages (from botocore==1.13.32->smdebug) (0.9.4)\n",
      "Requirement already satisfied: urllib3<1.26,>=1.20; python_version >= \"3.4\" in /home/ec2-user/anaconda3/envs/tensorflow_p36/lib/python3.6/site-packages (from botocore==1.13.32->smdebug) (1.23)\n",
      "Collecting async-generator>=1.10 (from aiobotocore==0.11.0->smdebug)\n",
      "  Using cached https://files.pythonhosted.org/packages/71/52/39d20e03abd0ac9159c162ec24b93fbcaa111e8400308f2465432495ca2b/async_generator-1.10-py3-none-any.whl\n",
      "Requirement already satisfied: wrapt>=1.10.10 in /home/ec2-user/anaconda3/envs/tensorflow_p36/lib/python3.6/site-packages (from aiobotocore==0.11.0->smdebug) (1.11.2)\n",
      "Requirement already satisfied: s3transfer<0.3.0,>=0.2.0 in /home/ec2-user/anaconda3/envs/tensorflow_p36/lib/python3.6/site-packages (from boto3==1.10.32->smdebug) (0.2.1)\n",
      "Requirement already satisfied: attrs>=17.3.0 in /home/ec2-user/anaconda3/envs/tensorflow_p36/lib/python3.6/site-packages (from aiohttp<4.0,>=3.6.0->smdebug) (18.1.0)\n",
      "Requirement already satisfied: chardet<4.0,>=2.0 in /home/ec2-user/anaconda3/envs/tensorflow_p36/lib/python3.6/site-packages (from aiohttp<4.0,>=3.6.0->smdebug) (3.0.4)\n",
      "Collecting typing-extensions>=3.6.5; python_version < \"3.7\" (from aiohttp<4.0,>=3.6.0->smdebug)\n",
      "  Using cached https://files.pythonhosted.org/packages/03/92/705fe8aca27678e01bbdd7738173b8e7df0088a2202c80352f664630d638/typing_extensions-3.7.4.1-py3-none-any.whl\n",
      "Collecting idna-ssl>=1.0; python_version < \"3.7\" (from aiohttp<4.0,>=3.6.0->smdebug)\n",
      "Collecting yarl<2.0,>=1.0 (from aiohttp<4.0,>=3.6.0->smdebug)\n",
      "  Using cached https://files.pythonhosted.org/packages/95/8f/0209fc5d975f839344c33c822ff2f7ef80f6b1e984673a5a68f960bfa583/yarl-1.4.2-cp36-cp36m-manylinux1_x86_64.whl\n",
      "Collecting multidict<5.0,>=4.5 (from aiohttp<4.0,>=3.6.0->smdebug)\n",
      "  Using cached https://files.pythonhosted.org/packages/7d/cf/73e67511d9cd60b1d11eab9361c949a209bbb9c742f2ccf59e5e8cd1d686/multidict-4.6.1-cp36-cp36m-manylinux1_x86_64.whl\n",
      "Collecting async-timeout<4.0,>=3.0 (from aiohttp<4.0,>=3.6.0->smdebug)\n",
      "  Using cached https://files.pythonhosted.org/packages/e1/1e/5a4441be21b0726c4464f3f23c8b19628372f606755a9d2e46c187e65ec4/async_timeout-3.0.1-py3-none-any.whl\n",
      "Requirement already satisfied: idna>=2.0 in /home/ec2-user/anaconda3/envs/tensorflow_p36/lib/python3.6/site-packages (from idna-ssl>=1.0; python_version < \"3.7\"->aiohttp<4.0,>=3.6.0->smdebug) (2.6)\n",
      "\u001b[31mawscli 1.16.283 has requirement botocore==1.13.19, but you'll have botocore 1.13.32 which is incompatible.\u001b[0m\n",
      "\u001b[31maiobotocore 0.11.0 has requirement botocore<1.13.15,>=1.13.14, but you'll have botocore 1.13.32 which is incompatible.\u001b[0m\n",
      "\u001b[31maioboto3 6.4.1 has requirement aiobotocore[boto3]~=0.10.2, but you'll have aiobotocore 0.11.0 which is incompatible.\u001b[0m\n",
      "Installing collected packages: async-generator, typing-extensions, idna-ssl, multidict, yarl, async-timeout, aiohttp, botocore, aiobotocore, aioboto3, nest-asyncio, boto3, smdebug\n",
      "  Found existing installation: botocore 1.13.19\n",
      "    Uninstalling botocore-1.13.19:\n",
      "      Successfully uninstalled botocore-1.13.19\n",
      "  Found existing installation: boto3 1.10.19\n",
      "    Uninstalling boto3-1.10.19:\n",
      "      Successfully uninstalled boto3-1.10.19\n",
      "Successfully installed aioboto3-6.4.1 aiobotocore-0.11.0 aiohttp-3.6.2 async-generator-1.10 async-timeout-3.0.1 boto3-1.10.32 botocore-1.13.32 idna-ssl-1.1.0 multidict-4.6.1 nest-asyncio-1.2.0 smdebug-0.4.14 typing-extensions-3.7.4.1 yarl-1.4.2\n",
      "\u001b[33mYou are using pip version 10.0.1, however version 19.3.1 is available.\n",
      "You should consider upgrading via the 'pip install --upgrade pip' command.\u001b[0m\n"
     ]
    }
   ],
   "source": [
    "! pip install smdebug"
   ]
  },
  {
   "cell_type": "markdown",
   "metadata": {},
   "source": [
    "설정이 끝나면 Debugger가 활성화된 SageMaker에서 TensorFlow 모델 학습을 시작하십시오.\n",
    "\n",
    "## Training TensorFlow models in SageMaker with Amazon SageMaker Debugger\n",
    "\n",
    "### SageMaker TensorFlow as a framework\n",
    "\n",
    "Amazon Sagemaker Debugger가 활성화된 이 노트북에서 TensorFlow 모델을 학습하고 Amazon Sagemaker Debugger Rules를 사용하여 학습 작업을 모니터링합니다. 이는 Amazon SageMaker [TensorFlow 1.15.0](https://docs.aws.amazon.com/sagemaker/latest/dg/pre-built-containers-frameworks-deep-learning.html) 컨테이너를 프레임워크로 사용하여 수행됩니다."
   ]
  },
  {
   "cell_type": "code",
   "execution_count": 5,
   "metadata": {},
   "outputs": [],
   "source": [
    "import boto3\n",
    "import os\n",
    "import sagemaker\n",
    "from sagemaker.tensorflow import TensorFlow"
   ]
  },
  {
   "cell_type": "markdown",
   "metadata": {},
   "source": [
    "Amazon SageMaker Debugger 데모에 필요한 라이브러리를 가져옵니다."
   ]
  },
  {
   "cell_type": "code",
   "execution_count": 6,
   "metadata": {},
   "outputs": [],
   "source": [
    "from sagemaker.debugger import Rule, DebuggerHookConfig, TensorBoardOutputConfig, CollectionConfig, rule_configs"
   ]
  },
  {
   "cell_type": "markdown",
   "metadata": {},
   "source": [
    "이제 학습을 실행할 설정(configuration)을 정의하겠습니다. 학습 예제로 MNIST 데이터셋를 사용하여 이미지 인식(image recognition)을 사용합니다."
   ]
  },
  {
   "cell_type": "code",
   "execution_count": 7,
   "metadata": {},
   "outputs": [],
   "source": [
    "# define the entrypoint script\n",
    "entrypoint_script='src/mnist_zerocodechange.py'\n",
    "\n",
    "hyperparameters = {\n",
    "    \"num_epochs\": 3\n",
    "}"
   ]
  },
  {
   "cell_type": "markdown",
   "metadata": {},
   "source": [
    "### Setting up the Estimator\n",
    "\n",
    "이제 TensorFlow Estimator를 설정할 차례입니다. Amazon SageMaker Debugger를 통해 디버깅을 위한 학습 작업을 수행할 수 있도록 estimator에 신규 파라메터들을 추가했습니다. 신규 파라메터들은 아래와 같습니다.\n",
    "\n",
    "* **debugger_hook_config**: 이 신규 파라메터는 텐서를 작성하려는 로컬 경로를 허용하고 텐서를 업로드할 S3 URI도 승인합니다. SageMaker는 실행 중에 이러한 텐서를 투명하게 업로드합니다.\n",
    "* **rules**: 이 신규 파라메터는 이 학습 작업에서 출력된 텐서에 대해 검증하려는 규칙들의 목록을 승인합니다. 규칙의 경우 Amazon SageMaker Debugger는 두 가지 유형을 지원합니다.\n",
    " * **SageMaker Rules**: : Amazon SageMaker의 데이터 과학 및 엔지니어링 팀이 특별히 선별한 규칙으로 학습 작업에 대해 평가하도록 선택할 수 있습니다.\n",
    " * **Custom Rules**: 원하는 경우 여러분의 규칙(your own rule)을 Python 소스 파일로 작성하고 학습 작업과 비교하여 평가하도록 선택할 수 있습니다. 이 규칙을 평가하기 위해 Amazon SageMaker Debugger를 제공하려면 규칙 소스의 S3 위치와 평가 이미지를 제공해야합니다.\n",
    " \n",
    "#### Using Amazon SageMaker Rules\n",
    "이 예시에서는 SageMaker 규칙을 사용하여 학습에 대해 평가하는 방법을 보여줍니다. 여러분은 [여기](https://github.com/awslabs/sagemaker-debugger-rulesconfig)에서 SageMaker 규칙 목록과 규칙 사용에 가장 적합한 구성을 찾을 수 있습니다.\n",
    "\n",
    "우리가 사용할 규칙은 **VanishingGradient**와 **LossNotDecreasing**입니다. 이름에서 알 수 있듯이, 규칙은 학습 중에 디버깅 후크에 의해 캡처된 텐서에 기울기 소실(vanishing gradients)이 있는지 그리고 loss가 감소하지 않는지 평가하려고 시도합니다."
   ]
  },
  {
   "cell_type": "code",
   "execution_count": 8,
   "metadata": {},
   "outputs": [],
   "source": [
    "rules = [\n",
    "    Rule.sagemaker(rule_configs.vanishing_gradient()), \n",
    "    Rule.sagemaker(rule_configs.loss_not_decreasing())\n",
    "]\n",
    "\n",
    "estimator = TensorFlow(\n",
    "    role=sagemaker.get_execution_role(),\n",
    "    base_job_name='smdebugger-demo-mnist-tensorflow',\n",
    "    train_instance_count=1,\n",
    "    train_instance_type='ml.m4.xlarge',\n",
    "    train_volume_size=400,\n",
    "    entry_point=entrypoint_script,\n",
    "    framework_version='1.15',\n",
    "    py_version='py3',\n",
    "    train_max_run=3600,\n",
    "    script_mode=True,\n",
    "    hyperparameters=hyperparameters,\n",
    "    ## New parameter\n",
    "    rules = rules\n",
    ")"
   ]
  },
  {
   "cell_type": "markdown",
   "metadata": {},
   "source": [
    "*Amazon Sagemaker Debugger는 현재 py_version='py3'에 대해서만 지원됩니다.*\n",
    "\n",
    "TensorFlow Estimator에서 `fit()`을 호출하여 학습을 시작하겠습니다."
   ]
  },
  {
   "cell_type": "code",
   "execution_count": 9,
   "metadata": {},
   "outputs": [
    {
     "name": "stdout",
     "output_type": "stream",
     "text": [
      "2019-12-06 01:14:24 Starting - Starting the training job...\n",
      "2019-12-06 01:14:49 Starting - Launching requested ML instances\n",
      "********* Debugger Rule Status *********\n",
      "*\n",
      "*  VanishingGradient: InProgress        \n",
      "*  LossNotDecreasing: InProgress        \n",
      "*\n",
      "****************************************\n",
      "......\n",
      "2019-12-06 01:15:50 Starting - Preparing the instances for training......\n",
      "2019-12-06 01:16:52 Downloading - Downloading input data\n",
      "2019-12-06 01:16:52 Training - Downloading the training image...\n",
      "2019-12-06 01:17:11 Training - Training image download completed. Training in progress.\u001b[34mWARNING:tensorflow:From /usr/local/lib/python3.6/dist-packages/tensorflow_core/__init__.py:1467: The name tf.estimator.inputs is deprecated. Please use tf.compat.v1.estimator.inputs instead.\n",
      "\u001b[0m\n",
      "\u001b[34m2019-12-06 01:17:15,325 sagemaker-containers INFO     Imported framework sagemaker_tensorflow_container.training\u001b[0m\n",
      "\u001b[34m2019-12-06 01:17:15,332 sagemaker-containers INFO     No GPUs detected (normal if no gpus installed)\u001b[0m\n",
      "\u001b[34m2019-12-06 01:17:15,714 sagemaker-containers INFO     No GPUs detected (normal if no gpus installed)\u001b[0m\n",
      "\u001b[34m2019-12-06 01:17:15,733 sagemaker-containers INFO     No GPUs detected (normal if no gpus installed)\u001b[0m\n",
      "\u001b[34m2019-12-06 01:17:15,750 sagemaker-containers INFO     No GPUs detected (normal if no gpus installed)\u001b[0m\n",
      "\u001b[34m2019-12-06 01:17:15,762 sagemaker-containers INFO     Invoking user script\n",
      "\u001b[0m\n",
      "\u001b[34mTraining Env:\n",
      "\u001b[0m\n",
      "\u001b[34m{\n",
      "    \"additional_framework_parameters\": {},\n",
      "    \"channel_input_dirs\": {},\n",
      "    \"current_host\": \"algo-1\",\n",
      "    \"framework_module\": \"sagemaker_tensorflow_container.training:main\",\n",
      "    \"hosts\": [\n",
      "        \"algo-1\"\n",
      "    ],\n",
      "    \"hyperparameters\": {\n",
      "        \"model_dir\": \"s3://sagemaker-us-east-1-143656149352/smdebugger-demo-mnist-tensorflow-2019-12-06-01-14-23-952/model\",\n",
      "        \"num_epochs\": 3\n",
      "    },\n",
      "    \"input_config_dir\": \"/opt/ml/input/config\",\n",
      "    \"input_data_config\": {},\n",
      "    \"input_dir\": \"/opt/ml/input\",\n",
      "    \"is_master\": true,\n",
      "    \"job_name\": \"smdebugger-demo-mnist-tensorflow-2019-12-06-01-14-23-952\",\n",
      "    \"log_level\": 20,\n",
      "    \"master_hostname\": \"algo-1\",\n",
      "    \"model_dir\": \"/opt/ml/model\",\n",
      "    \"module_dir\": \"s3://sagemaker-us-east-1-143656149352/smdebugger-demo-mnist-tensorflow-2019-12-06-01-14-23-952/source/sourcedir.tar.gz\",\n",
      "    \"module_name\": \"mnist_zerocodechange\",\n",
      "    \"network_interface_name\": \"eth0\",\n",
      "    \"num_cpus\": 4,\n",
      "    \"num_gpus\": 0,\n",
      "    \"output_data_dir\": \"/opt/ml/output/data\",\n",
      "    \"output_dir\": \"/opt/ml/output\",\n",
      "    \"output_intermediate_dir\": \"/opt/ml/output/intermediate\",\n",
      "    \"resource_config\": {\n",
      "        \"current_host\": \"algo-1\",\n",
      "        \"hosts\": [\n",
      "            \"algo-1\"\n",
      "        ],\n",
      "        \"network_interface_name\": \"eth0\"\n",
      "    },\n",
      "    \"user_entry_point\": \"mnist_zerocodechange.py\"\u001b[0m\n",
      "\u001b[34m}\n",
      "\u001b[0m\n",
      "\u001b[34mEnvironment variables:\n",
      "\u001b[0m\n",
      "\u001b[34mSM_HOSTS=[\"algo-1\"]\u001b[0m\n",
      "\u001b[34mSM_NETWORK_INTERFACE_NAME=eth0\u001b[0m\n",
      "\u001b[34mSM_HPS={\"model_dir\":\"s3://sagemaker-us-east-1-143656149352/smdebugger-demo-mnist-tensorflow-2019-12-06-01-14-23-952/model\",\"num_epochs\":3}\u001b[0m\n",
      "\u001b[34mSM_USER_ENTRY_POINT=mnist_zerocodechange.py\u001b[0m\n",
      "\u001b[34mSM_FRAMEWORK_PARAMS={}\u001b[0m\n",
      "\u001b[34mSM_RESOURCE_CONFIG={\"current_host\":\"algo-1\",\"hosts\":[\"algo-1\"],\"network_interface_name\":\"eth0\"}\u001b[0m\n",
      "\u001b[34mSM_INPUT_DATA_CONFIG={}\u001b[0m\n",
      "\u001b[34mSM_OUTPUT_DATA_DIR=/opt/ml/output/data\u001b[0m\n",
      "\u001b[34mSM_CHANNELS=[]\u001b[0m\n",
      "\u001b[34mSM_CURRENT_HOST=algo-1\u001b[0m\n",
      "\u001b[34mSM_MODULE_NAME=mnist_zerocodechange\u001b[0m\n",
      "\u001b[34mSM_LOG_LEVEL=20\u001b[0m\n",
      "\u001b[34mSM_FRAMEWORK_MODULE=sagemaker_tensorflow_container.training:main\u001b[0m\n",
      "\u001b[34mSM_INPUT_DIR=/opt/ml/input\u001b[0m\n",
      "\u001b[34mSM_INPUT_CONFIG_DIR=/opt/ml/input/config\u001b[0m\n",
      "\u001b[34mSM_OUTPUT_DIR=/opt/ml/output\u001b[0m\n",
      "\u001b[34mSM_NUM_CPUS=4\u001b[0m\n",
      "\u001b[34mSM_NUM_GPUS=0\u001b[0m\n",
      "\u001b[34mSM_MODEL_DIR=/opt/ml/model\u001b[0m\n",
      "\u001b[34mSM_MODULE_DIR=s3://sagemaker-us-east-1-143656149352/smdebugger-demo-mnist-tensorflow-2019-12-06-01-14-23-952/source/sourcedir.tar.gz\u001b[0m\n",
      "\u001b[34mSM_TRAINING_ENV={\"additional_framework_parameters\":{},\"channel_input_dirs\":{},\"current_host\":\"algo-1\",\"framework_module\":\"sagemaker_tensorflow_container.training:main\",\"hosts\":[\"algo-1\"],\"hyperparameters\":{\"model_dir\":\"s3://sagemaker-us-east-1-143656149352/smdebugger-demo-mnist-tensorflow-2019-12-06-01-14-23-952/model\",\"num_epochs\":3},\"input_config_dir\":\"/opt/ml/input/config\",\"input_data_config\":{},\"input_dir\":\"/opt/ml/input\",\"is_master\":true,\"job_name\":\"smdebugger-demo-mnist-tensorflow-2019-12-06-01-14-23-952\",\"log_level\":20,\"master_hostname\":\"algo-1\",\"model_dir\":\"/opt/ml/model\",\"module_dir\":\"s3://sagemaker-us-east-1-143656149352/smdebugger-demo-mnist-tensorflow-2019-12-06-01-14-23-952/source/sourcedir.tar.gz\",\"module_name\":\"mnist_zerocodechange\",\"network_interface_name\":\"eth0\",\"num_cpus\":4,\"num_gpus\":0,\"output_data_dir\":\"/opt/ml/output/data\",\"output_dir\":\"/opt/ml/output\",\"output_intermediate_dir\":\"/opt/ml/output/intermediate\",\"resource_config\":{\"current_host\":\"algo-1\",\"hosts\":[\"algo-1\"],\"network_interface_name\":\"eth0\"},\"user_entry_point\":\"mnist_zerocodechange.py\"}\u001b[0m\n",
      "\u001b[34mSM_USER_ARGS=[\"--model_dir\",\"s3://sagemaker-us-east-1-143656149352/smdebugger-demo-mnist-tensorflow-2019-12-06-01-14-23-952/model\",\"--num_epochs\",\"3\"]\u001b[0m\n",
      "\u001b[34mSM_OUTPUT_INTERMEDIATE_DIR=/opt/ml/output/intermediate\u001b[0m\n",
      "\u001b[34mSM_HP_MODEL_DIR=s3://sagemaker-us-east-1-143656149352/smdebugger-demo-mnist-tensorflow-2019-12-06-01-14-23-952/model\u001b[0m\n",
      "\u001b[34mSM_HP_NUM_EPOCHS=3\u001b[0m\n",
      "\u001b[34mPYTHONPATH=/opt/ml/code:/usr/local/bin:/usr/lib/python36.zip:/usr/lib/python3.6:/usr/lib/python3.6/lib-dynload:/usr/local/lib/python3.6/dist-packages:/usr/lib/python3/dist-packages\n",
      "\u001b[0m\n",
      "\u001b[34mInvoking script with the following command:\n",
      "\u001b[0m\n",
      "\u001b[34m/usr/bin/python3 mnist_zerocodechange.py --model_dir s3://sagemaker-us-east-1-143656149352/smdebugger-demo-mnist-tensorflow-2019-12-06-01-14-23-952/model --num_epochs 3\n",
      "\n",
      "\u001b[0m\n",
      "\u001b[34mWARNING:tensorflow:From /usr/local/lib/python3.6/dist-packages/tensorflow_core/__init__.py:1467: The name tf.estimator.inputs is deprecated. Please use tf.compat.v1.estimator.inputs instead.\n",
      "\u001b[0m\n",
      "\u001b[34mDownloading data from https://storage.googleapis.com/tensorflow/tf-keras-datasets/mnist.npz\u001b[0m\n",
      "\u001b[34m#015    8192/11490434 [..............................] - ETA: 0s#010#010#010#010#010#010#010#010#010#010#010#010#010#010#010#010#010#010#010#010#010#010#010#010#010#010#010#010#010#010#010#010#010#010#010#010#010#010#010#010#010#010#010#010#010#010#010#010#010#010#010#010#010#010#010#010#010#010#010#010#015 5537792/11490434 [=============>................] - ETA: 0s#010#010#010#010#010#010#010#010#010#010#010#010#010#010#010#010#010#010#010#010#010#010#010#010#010#010#010#010#010#010#010#010#010#010#010#010#010#010#010#010#010#010#010#010#010#010#010#010#010#010#010#010#010#010#010#010#010#010#010#010#01511083776/11490434 [===========================>..] - ETA: 0s#010#010#010#010#010#010#010#010#010#010#010#010#010#010#010#010#010#010#010#010#010#010#010#010#010#010#010#010#010#010#010#010#010#010#010#010#010#010#010#010#010#010#010#010#010#010#010#010#010#010#010#010#010#010#010#010#010#010#010#010#01511493376/11490434 [==============================] - 0s 0us/step\u001b[0m\n",
      "\u001b[34mINFO:tensorflow:Using default config.\u001b[0m\n",
      "\u001b[34mINFO:tensorflow:Using config: {'_model_dir': 's3://sagemaker-us-east-1-143656149352/smdebugger-demo-mnist-tensorflow-2019-12-06-01-14-23-952/model', '_tf_random_seed': None, '_save_summary_steps': 100, '_save_checkpoints_steps': None, '_save_checkpoints_secs': 600, '_session_config': allow_soft_placement: true\u001b[0m\n",
      "\u001b[34mgraph_options {\n",
      "  rewrite_options {\n",
      "    meta_optimizer_iterations: ONE\n",
      "  }\u001b[0m\n",
      "\u001b[34m}\u001b[0m\n",
      "\u001b[34m, '_keep_checkpoint_max': 5, '_keep_checkpoint_every_n_hours': 10000, '_log_step_count_steps': 100, '_train_distribute': None, '_device_fn': None, '_protocol': None, '_eval_distribute': None, '_experimental_distribute': None, '_experimental_max_worker_delay_secs': None, '_session_creation_timeout_secs': 7200, '_service': None, '_cluster_spec': <tensorflow.python.training.server_lib.ClusterSpec object at 0x7eff615a9748>, '_task_type': 'worker', '_task_id': 0, '_global_id_in_cluster': 0, '_master': '', '_evaluation_master': '', '_is_chief': True, '_num_ps_replicas': 0, '_num_worker_replicas': 1}\u001b[0m\n",
      "\u001b[34mWARNING:tensorflow:From mnist_zerocodechange.py:114: The name tf.estimator.inputs.numpy_input_fn is deprecated. Please use tf.compat.v1.estimator.inputs.numpy_input_fn instead.\n",
      "\u001b[0m\n",
      "\u001b[34m[2019-12-06 01:17:19.779 ip-10-0-134-59.ec2.internal:26 INFO json_config.py:90] Creating hook from json_config at /opt/ml/input/config/debughookconfig.json.\u001b[0m\n",
      "\u001b[34mWARNING:tensorflow:From /usr/local/lib/python3.6/dist-packages/horovod/tensorflow/__init__.py:117: The name tf.global_variables is deprecated. Please use tf.compat.v1.global_variables instead.\n",
      "\u001b[0m\n",
      "\u001b[34mWARNING:tensorflow:From /usr/local/lib/python3.6/dist-packages/horovod/tensorflow/__init__.py:143: The name tf.get_default_graph is deprecated. Please use tf.compat.v1.get_default_graph instead.\n",
      "\u001b[0m\n",
      "\u001b[34m[2019-12-06 01:17:19.803 ip-10-0-134-59.ec2.internal:26 INFO hook.py:151] tensorboard_dir has not been set for the hook. SMDebug will not be exporting tensorboard summaries.\u001b[0m\n",
      "\u001b[34m[2019-12-06 01:17:19.803 ip-10-0-134-59.ec2.internal:26 INFO hook.py:196] Saving to /opt/ml/output/tensors\u001b[0m\n",
      "\u001b[34mWARNING:tensorflow:From /usr/local/lib/python3.6/dist-packages/tensorflow_core/python/training/training_util.py:236: Variable.initialized_value (from tensorflow.python.ops.variables) is deprecated and will be removed in a future version.\u001b[0m\n",
      "\u001b[34mInstructions for updating:\u001b[0m\n",
      "\u001b[34mUse Variable.read_value. Variables in 2.X are initialized automatically both in eager and graph (inside tf.defun) contexts.\u001b[0m\n",
      "\u001b[34mWARNING:tensorflow:From /usr/local/lib/python3.6/dist-packages/tensorflow_estimator/python/estimator/inputs/queues/feeding_queue_runner.py:62: QueueRunner.__init__ (from tensorflow.python.training.queue_runner_impl) is deprecated and will be removed in a future version.\u001b[0m\n",
      "\u001b[34mInstructions for updating:\u001b[0m\n",
      "\u001b[34mTo construct input pipelines, use the `tf.data` module.\u001b[0m\n",
      "\u001b[34mWARNING:tensorflow:From /usr/local/lib/python3.6/dist-packages/tensorflow_estimator/python/estimator/inputs/queues/feeding_functions.py:500: add_queue_runner (from tensorflow.python.training.queue_runner_impl) is deprecated and will be removed in a future version.\u001b[0m\n",
      "\u001b[34mInstructions for updating:\u001b[0m\n",
      "\u001b[34mTo construct input pipelines, use the `tf.data` module.\u001b[0m\n",
      "\u001b[34mINFO:tensorflow:Calling model_fn.\u001b[0m\n",
      "\u001b[34mWARNING:tensorflow:From mnist_zerocodechange.py:54: conv2d (from tensorflow.python.layers.convolutional) is deprecated and will be removed in a future version.\u001b[0m\n",
      "\u001b[34mInstructions for updating:\u001b[0m\n",
      "\u001b[34mUse `tf.keras.layers.Conv2D` instead.\u001b[0m\n",
      "\u001b[34mWARNING:tensorflow:From /usr/local/lib/python3.6/dist-packages/tensorflow_core/python/layers/convolutional.py:424: Layer.apply (from tensorflow.python.keras.engine.base_layer) is deprecated and will be removed in a future version.\u001b[0m\n",
      "\u001b[34mInstructions for updating:\u001b[0m\n",
      "\u001b[34mPlease use `layer.__call__` method instead.\u001b[0m\n",
      "\u001b[34mWARNING:tensorflow:From mnist_zerocodechange.py:58: max_pooling2d (from tensorflow.python.layers.pooling) is deprecated and will be removed in a future version.\u001b[0m\n",
      "\u001b[34mInstructions for updating:\u001b[0m\n",
      "\u001b[34mUse keras.layers.MaxPooling2D instead.\u001b[0m\n",
      "\u001b[34mWARNING:tensorflow:From mnist_zerocodechange.py:68: dense (from tensorflow.python.layers.core) is deprecated and will be removed in a future version.\u001b[0m\n",
      "\u001b[34mInstructions for updating:\u001b[0m\n",
      "\u001b[34mUse keras.layers.Dense instead.\u001b[0m\n",
      "\u001b[34mWARNING:tensorflow:From mnist_zerocodechange.py:70: dropout (from tensorflow.python.layers.core) is deprecated and will be removed in a future version.\u001b[0m\n",
      "\u001b[34mInstructions for updating:\u001b[0m\n",
      "\u001b[34mUse keras.layers.dropout instead.\u001b[0m\n",
      "\u001b[34mWARNING:tensorflow:From mnist_zerocodechange.py:88: The name tf.losses.sparse_softmax_cross_entropy is deprecated. Please use tf.compat.v1.losses.sparse_softmax_cross_entropy instead.\n",
      "\u001b[0m\n",
      "\u001b[34mWARNING:tensorflow:From /usr/local/lib/python3.6/dist-packages/tensorflow_core/python/ops/losses/losses_impl.py:121: where (from tensorflow.python.ops.array_ops) is deprecated and will be removed in a future version.\u001b[0m\n",
      "\u001b[34mInstructions for updating:\u001b[0m\n",
      "\u001b[34mUse tf.where in 2.0, which has the same broadcast rule as np.where\u001b[0m\n",
      "\u001b[34mWARNING:tensorflow:From mnist_zerocodechange.py:92: The name tf.train.GradientDescentOptimizer is deprecated. Please use tf.compat.v1.train.GradientDescentOptimizer instead.\n",
      "\u001b[0m\n",
      "\u001b[34mWARNING:tensorflow:From mnist_zerocodechange.py:93: The name tf.train.get_global_step is deprecated. Please use tf.compat.v1.train.get_global_step instead.\n",
      "\u001b[0m\n",
      "\u001b[34mINFO:tensorflow:Done calling model_fn.\u001b[0m\n",
      "\u001b[34mINFO:tensorflow:Create CheckpointSaverHook.\u001b[0m\n",
      "\u001b[34m[2019-12-06 01:17:20.929 ip-10-0-134-59.ec2.internal:26 INFO hook.py:325] Monitoring the collections: metrics, losses, gradients, sm_metrics\u001b[0m\n",
      "\u001b[34mINFO:tensorflow:Graph was finalized.\u001b[0m\n",
      "\u001b[34mINFO:tensorflow:Running local_init_op.\u001b[0m\n",
      "\u001b[34mINFO:tensorflow:Done running local_init_op.\u001b[0m\n",
      "\u001b[34mWARNING:tensorflow:From /usr/local/lib/python3.6/dist-packages/tensorflow_core/python/training/monitored_session.py:888: start_queue_runners (from tensorflow.python.training.queue_runner_impl) is deprecated and will be removed in a future version.\u001b[0m\n",
      "\u001b[34mInstructions for updating:\u001b[0m\n",
      "\u001b[34mTo construct input pipelines, use the `tf.data` module.\u001b[0m\n",
      "\u001b[34mINFO:tensorflow:Saving checkpoints for 0 into s3://sagemaker-us-east-1-143656149352/smdebugger-demo-mnist-tensorflow-2019-12-06-01-14-23-952/model/model.ckpt.\u001b[0m\n"
     ]
    },
    {
     "name": "stdout",
     "output_type": "stream",
     "text": [
      "\u001b[34mWARNING:tensorflow:From /usr/local/lib/python3.6/dist-packages/smdebug/tensorflow/session.py:310: extract_sub_graph (from tensorflow.python.framework.graph_util_impl) is deprecated and will be removed in a future version.\u001b[0m\n",
      "\u001b[34mInstructions for updating:\u001b[0m\n",
      "\u001b[34mUse `tf.compat.v1.graph_util.extract_sub_graph`\u001b[0m\n",
      "\u001b[34mINFO:tensorflow:loss = 2.3003836, step = 1\u001b[0m\n",
      "\u001b[34mINFO:tensorflow:global_step/sec: 7.85446\u001b[0m\n",
      "\u001b[34mINFO:tensorflow:loss = 2.2812579, step = 101 (12.732 sec)\u001b[0m\n",
      "\u001b[34mINFO:tensorflow:global_step/sec: 8.34188\u001b[0m\n",
      "\u001b[34mINFO:tensorflow:loss = 2.2630363, step = 201 (11.988 sec)\u001b[0m\n",
      "\u001b[34mINFO:tensorflow:global_step/sec: 8.36888\u001b[0m\n",
      "\u001b[34mINFO:tensorflow:loss = 2.2549818, step = 301 (11.949 sec)\u001b[0m\n",
      "\u001b[34mINFO:tensorflow:global_step/sec: 8.3397\u001b[0m\n",
      "\u001b[34mINFO:tensorflow:loss = 2.2424684, step = 401 (11.991 sec)\u001b[0m\n",
      "\u001b[34mINFO:tensorflow:global_step/sec: 8.32699\u001b[0m\n",
      "\u001b[34mINFO:tensorflow:loss = 2.2194834, step = 501 (12.009 sec)\u001b[0m\n",
      "\u001b[34mINFO:tensorflow:global_step/sec: 8.29016\u001b[0m\n",
      "\u001b[34mINFO:tensorflow:loss = 2.197701, step = 601 (12.062 sec)\u001b[0m\n",
      "\u001b[34mINFO:tensorflow:global_step/sec: 8.37802\u001b[0m\n",
      "\u001b[34mINFO:tensorflow:loss = 2.1825197, step = 701 (11.936 sec)\u001b[0m\n",
      "\u001b[34mINFO:tensorflow:global_step/sec: 8.28977\u001b[0m\n",
      "\u001b[34mINFO:tensorflow:loss = 2.1131759, step = 801 (12.063 sec)\u001b[0m\n",
      "\u001b[34mINFO:tensorflow:global_step/sec: 8.31864\u001b[0m\n",
      "\u001b[34mINFO:tensorflow:loss = 2.053491, step = 901 (12.021 sec)\u001b[0m\n",
      "\u001b[34mINFO:tensorflow:global_step/sec: 8.39202\u001b[0m\n",
      "\u001b[34mINFO:tensorflow:loss = 2.0090766, step = 1001 (12.303 sec)\u001b[0m\n",
      "\u001b[34mINFO:tensorflow:global_step/sec: 7.98833\u001b[0m\n",
      "\u001b[34mINFO:tensorflow:loss = 1.9027839, step = 1101 (12.131 sec)\u001b[0m\n",
      "\u001b[34mINFO:tensorflow:global_step/sec: 8.30492\u001b[0m\n",
      "\u001b[34mINFO:tensorflow:loss = 1.7456017, step = 1201 (12.041 sec)\u001b[0m\n",
      "\u001b[34mINFO:tensorflow:global_step/sec: 8.11871\u001b[0m\n",
      "\u001b[34mINFO:tensorflow:loss = 1.7406734, step = 1301 (12.317 sec)\u001b[0m\n",
      "\u001b[34mINFO:tensorflow:global_step/sec: 8.36612\u001b[0m\n",
      "\u001b[34mINFO:tensorflow:loss = 1.4740404, step = 1401 (11.953 sec)\u001b[0m\n",
      "\u001b[34mINFO:tensorflow:Saving checkpoints for 1407 into s3://sagemaker-us-east-1-143656149352/smdebugger-demo-mnist-tensorflow-2019-12-06-01-14-23-952/model/model.ckpt.\u001b[0m\n",
      "\u001b[34mINFO:tensorflow:Loss for final step: 1.5306885.\u001b[0m\n",
      "\u001b[34mINFO:tensorflow:Calling model_fn.\u001b[0m\n",
      "\u001b[34mWARNING:tensorflow:From mnist_zerocodechange.py:98: The name tf.metrics.accuracy is deprecated. Please use tf.compat.v1.metrics.accuracy instead.\n",
      "\u001b[0m\n",
      "\u001b[34mINFO:tensorflow:Done calling model_fn.\u001b[0m\n",
      "\u001b[34mINFO:tensorflow:Starting evaluation at 2019-12-06T01:20:19Z\u001b[0m\n",
      "\u001b[34m[2019-12-06 01:20:19.822 ip-10-0-134-59.ec2.internal:26 INFO hook.py:325] Monitoring the collections: metrics, losses, gradients, sm_metrics\u001b[0m\n",
      "\u001b[34mINFO:tensorflow:Graph was finalized.\u001b[0m\n",
      "\u001b[34mINFO:tensorflow:Restoring parameters from s3://sagemaker-us-east-1-143656149352/smdebugger-demo-mnist-tensorflow-2019-12-06-01-14-23-952/model/model.ckpt-1407\u001b[0m\n",
      "\u001b[34mINFO:tensorflow:Running local_init_op.\u001b[0m\n",
      "\u001b[34mINFO:tensorflow:Done running local_init_op.\u001b[0m\n",
      "\u001b[34mINFO:tensorflow:Finished evaluation at 2019-12-06-01:20:23\u001b[0m\n",
      "\u001b[34mINFO:tensorflow:Saving dict for global step 1407: accuracy = 0.757, global_step = 1407, loss = 1.468363\u001b[0m\n",
      "\u001b[34mINFO:tensorflow:Saving 'checkpoint_path' summary for global step 1407: s3://sagemaker-us-east-1-143656149352/smdebugger-demo-mnist-tensorflow-2019-12-06-01-14-23-952/model/model.ckpt-1407\u001b[0m\n",
      "\u001b[34m[2019-12-06 01:20:24.801 ip-10-0-134-59.ec2.internal:26 INFO utils.py:27] The end of training job file will not be written for jobs running under SageMaker.\u001b[0m\n",
      "\u001b[34m2019-12-06 01:20:25,260 sagemaker_tensorflow_container.training WARNING  No model artifact is saved under path /opt/ml/model. Your training job will not save any model files to S3.\u001b[0m\n",
      "\u001b[34mFor details of how to construct your training script see:\u001b[0m\n",
      "\u001b[34mhttps://sagemaker.readthedocs.io/en/stable/using_tf.html#adapting-your-local-tensorflow-script\u001b[0m\n",
      "\u001b[34m2019-12-06 01:20:25,260 sagemaker-containers INFO     Reporting training SUCCESS\u001b[0m\n",
      "\n",
      "2019-12-06 01:20:54 Uploading - Uploading generated training model\n",
      "2019-12-06 01:20:54 Completed - Training job completed\n",
      "\n",
      "********* Debugger Rule Status *********\n",
      "*\n",
      "*  VanishingGradient: NoIssuesFound     \n",
      "*  LossNotDecreasing: NoIssuesFound     \n",
      "*\n",
      "****************************************\n",
      "Training seconds: 249\n",
      "Billable seconds: 249\n"
     ]
    }
   ],
   "source": [
    "estimator.fit(wait=True)"
   ]
  },
  {
   "cell_type": "markdown",
   "metadata": {},
   "source": [
    "## Result \n",
    "\n",
    "`fit()`을 호출한 결과 Amazon SageMaker Debugger는 학습 작업과 병행하여 vanishing gradient 및 loss 감소를 모니터링하기 위해 두 가지 규칙 평가 작업(rule evaluation job)을 시작했습니다. 규칙 평가 상태는 정기적으로 학습 로그에 표시됩니다. 보시다시피 학습 단계에서 텐서의 vanishing gradient가 발견된 step은 없었지만, step 1900에서 loss가 감소하지 않았습니다."
   ]
  },
  {
   "cell_type": "code",
   "execution_count": 10,
   "metadata": {},
   "outputs": [
    {
     "data": {
      "text/plain": [
       "[{'RuleConfigurationName': 'VanishingGradient',\n",
       "  'RuleEvaluationJobArn': 'arn:aws:sagemaker:us-east-1:143656149352:processing-job/smdebugger-demo-mnist-tens-vanishinggradient-3013fb74',\n",
       "  'RuleEvaluationStatus': 'NoIssuesFound',\n",
       "  'LastModifiedTime': datetime.datetime(2019, 12, 6, 1, 20, 54, 366000, tzinfo=tzlocal())},\n",
       " {'RuleConfigurationName': 'LossNotDecreasing',\n",
       "  'RuleEvaluationJobArn': 'arn:aws:sagemaker:us-east-1:143656149352:processing-job/smdebugger-demo-mnist-tens-lossnotdecreasing-ea8275e6',\n",
       "  'RuleEvaluationStatus': 'NoIssuesFound',\n",
       "  'LastModifiedTime': datetime.datetime(2019, 12, 6, 1, 20, 54, 366000, tzinfo=tzlocal())}]"
      ]
     },
     "execution_count": 10,
     "metadata": {},
     "output_type": "execute_result"
    }
   ],
   "source": [
    "estimator.latest_training_job.rule_job_summary()"
   ]
  },
  {
   "cell_type": "markdown",
   "metadata": {},
   "source": [
    "감소하지 않는 loss에 대해 규칙 작업의 로그를 살펴 보도록 하겠습니다. 이를 위해 이 utlity 함수를 사용하여 규칙 작업 로그에 대한 링크를 가져옵니다."
   ]
  },
  {
   "cell_type": "code",
   "execution_count": 11,
   "metadata": {},
   "outputs": [
    {
     "data": {
      "text/plain": [
       "{'VanishingGradient': 'https://us-east-1.console.aws.amazon.com/cloudwatch/home?region=us-east-1#logStream:group=/aws/sagemaker/ProcessingJobs;prefix=smdebugger-demo-mnist-tens-VanishingGradient-3013fb74;streamFilter=typeLogStreamPrefix',\n",
       " 'LossNotDecreasing': 'https://us-east-1.console.aws.amazon.com/cloudwatch/home?region=us-east-1#logStream:group=/aws/sagemaker/ProcessingJobs;prefix=smdebugger-demo-mnist-tens-LossNotDecreasing-ea8275e6;streamFilter=typeLogStreamPrefix'}"
      ]
     },
     "execution_count": 11,
     "metadata": {},
     "output_type": "execute_result"
    }
   ],
   "source": [
    "def _get_rule_job_name(training_job_name, rule_configuration_name, rule_job_arn):\n",
    "        \"\"\"Helper function to get the rule job name with correct casing\"\"\"\n",
    "        return \"{}-{}-{}\".format(\n",
    "            training_job_name[:26], rule_configuration_name[:26], rule_job_arn[-8:]\n",
    "        )\n",
    "    \n",
    "def _get_cw_url_for_rule_job(rule_job_name, region):\n",
    "    return \"https://{}.console.aws.amazon.com/cloudwatch/home?region={}#logStream:group=/aws/sagemaker/ProcessingJobs;prefix={};streamFilter=typeLogStreamPrefix\".format(region, region, rule_job_name)\n",
    "\n",
    "\n",
    "def get_rule_jobs_cw_urls(estimator):\n",
    "    region = boto3.Session().region_name\n",
    "    training_job = estimator.latest_training_job\n",
    "    training_job_name = training_job.describe()[\"TrainingJobName\"]\n",
    "    rule_eval_statuses = training_job.describe()[\"DebugRuleEvaluationStatuses\"]\n",
    "    \n",
    "    result={}\n",
    "    for status in rule_eval_statuses:\n",
    "        if status.get(\"RuleEvaluationJobArn\", None) is not None:\n",
    "            rule_job_name = _get_rule_job_name(training_job_name, status[\"RuleConfigurationName\"], status[\"RuleEvaluationJobArn\"])\n",
    "            result[status[\"RuleConfigurationName\"]] = _get_cw_url_for_rule_job(rule_job_name, region)\n",
    "    return result\n",
    "\n",
    "get_rule_jobs_cw_urls(estimator)"
   ]
  },
  {
   "cell_type": "markdown",
   "metadata": {},
   "source": [
    "## Data Analysis - Interactive Exploration\n",
    "\n",
    "학습을 수행하고 규칙을 통한 자동 분석을 살펴 보았으므로, Amazon SageMaker Debugger의 다른 측면도 살펴 보겠습니다. 실시간 또는 작업 후 저장된 텐서의 대화식 탐색(interactive exploration)을 수행할 수 있습니다. 여기서 우리는 위 작업의 사후 분석(after-the-fact analysis)에 중점을 둡니다. 이를 위해 `smdebug` 라이브러리를 가져오겠습니다. 이 라이브러리는 단일 학습 실행을 나타내는 Trial의 개념을 정의합니다. 위 작업에 대한 Debugger 아티팩트 경로를 가져 오는 방법에 유의하세요."
   ]
  },
  {
   "cell_type": "code",
   "execution_count": 12,
   "metadata": {},
   "outputs": [
    {
     "name": "stdout",
     "output_type": "stream",
     "text": [
      "[2019-12-06 01:36:50.605 ip-172-16-106-37:25987 INFO s3_trial.py:42] Loading trial debug-output at path s3://sagemaker-us-east-1-143656149352/smdebugger-demo-mnist-tensorflow-2019-12-06-01-14-23-952/debug-output\n"
     ]
    }
   ],
   "source": [
    "from smdebug.trials import create_trial\n",
    "trial = create_trial(estimator.latest_job_debugger_artifacts_path())"
   ]
  },
  {
   "cell_type": "markdown",
   "metadata": {},
   "source": [
    "여러분은 플롯(plot)하고 싶은 것을 알기 위해 기록된 모든 텐서를 나열할 수 있습니다. 이 이름들 각각은 TensorFlow에 의해 자동 할당되는 텐서의 이름입니다. 이러한 이름을 사용할 수 없는 일부 프레임워크에서는 레이어 이름과 가중치, 바이어스, 그래디언트, 입력 또는 출력 여부에 따라 이름을 생성합니다."
   ]
  },
  {
   "cell_type": "code",
   "execution_count": 15,
   "metadata": {},
   "outputs": [
    {
     "data": {
      "text/plain": [
       "['gradients/conv2d/BiasAdd_grad/tuple/control_dependency_1:0',\n",
       " 'gradients/conv2d/Conv2D_grad/tuple/control_dependency_1:0',\n",
       " 'gradients/conv2d_1/BiasAdd_grad/tuple/control_dependency_1:0',\n",
       " 'gradients/conv2d_1/Conv2D_grad/tuple/control_dependency_1:0',\n",
       " 'gradients/dense/BiasAdd_grad/tuple/control_dependency_1:0',\n",
       " 'gradients/dense/MatMul_grad/tuple/control_dependency_1:0',\n",
       " 'gradients/dense_1/BiasAdd_grad/tuple/control_dependency_1:0',\n",
       " 'gradients/dense_1/MatMul_grad/tuple/control_dependency_1:0',\n",
       " 'sparse_softmax_cross_entropy_loss/value:0']"
      ]
     },
     "execution_count": 15,
     "metadata": {},
     "output_type": "execute_result"
    }
   ],
   "source": [
    "trial.tensor_names()"
   ]
  },
  {
   "cell_type": "markdown",
   "metadata": {},
   "source": [
    "또한, `smdebug`가 학습 작업에서 생성하는 일부 기본 컬렉션으로 텐서를 검색할 수도 있습니다. 여기서 우리는 loss 컬렉션 관심이 있으므로 다음과 같이 loss 컬렉션 텐서 이름을 검색할 수 있습니다. Amazon SageMaker Debugger는 가중치(weights), 그래디언트(gradients), 바이어스(biases), loss과 같은 기본 컬렉션을 자동으로 생성합니다. 텐서에서 사용자 정의 컬렉션들(custom collections)을 생성할 수도 있습니다."
   ]
  },
  {
   "cell_type": "code",
   "execution_count": 16,
   "metadata": {},
   "outputs": [
    {
     "data": {
      "text/plain": [
       "['sparse_softmax_cross_entropy_loss/value:0']"
      ]
     },
     "execution_count": 16,
     "metadata": {},
     "output_type": "execute_result"
    }
   ],
   "source": [
    "trial.tensor_names(collection=\"losses\")"
   ]
  },
  {
   "cell_type": "code",
   "execution_count": 18,
   "metadata": {},
   "outputs": [
    {
     "data": {
      "image/png": "[encoded data removed]",
      "text/plain": [
       "<Figure size 640x640 with 1 Axes>"
      ]
     },
     "metadata": {},
     "output_type": "display_data"
    }
   ],
   "source": [
    "%matplotlib inline\n",
    "import matplotlib.pyplot as plt\n",
    "import re\n",
    "\n",
    "# Define a function that, for the given tensor name, walks through all \n",
    "# the iterations for which we have data and fetches the value.\n",
    "# Returns the set of steps and the values\n",
    "def get_data(trial, tname):\n",
    "    tensor = trial.tensor(tname)\n",
    "    steps = tensor.steps()\n",
    "    vals = [tensor.value(s) for s in steps]\n",
    "    return steps, vals\n",
    "\n",
    "def plot_tensors(trial, collection_name, ylabel=''):\n",
    "    \"\"\"\n",
    "    Takes a `trial` and plots all tensors that match the given regex.\n",
    "    \"\"\"\n",
    "    plt.figure(\n",
    "        num=1, figsize=(8, 8), dpi=80,\n",
    "        facecolor='w', edgecolor='k')\n",
    "\n",
    "    tensors = trial.tensor_names(collection=collection_name)\n",
    "\n",
    "    for tensor_name in sorted(tensors):\n",
    "        steps, data = get_data(trial, tensor_name)\n",
    "        plt.plot(steps, data, label=tensor_name)\n",
    "\n",
    "    plt.legend(bbox_to_anchor=(1.04,1), loc='upper left')\n",
    "    plt.xlabel('Iteration')\n",
    "    plt.ylabel(ylabel)\n",
    "    plt.show()\n",
    "    \n",
    "plot_tensors(trial, \"losses\", ylabel=\"Loss\")"
   ]
  }
 ],
 "metadata": {
  "kernelspec": {
   "display_name": "conda_tensorflow_p36",
   "language": "python",
   "name": "conda_tensorflow_p36"
  },
  "language_info": {
   "codemirror_mode": {
    "name": "ipython",
    "version": 3
   },
   "file_extension": ".py",
   "mimetype": "text/x-python",
   "name": "python",
   "nbconvert_exporter": "python",
   "pygments_lexer": "ipython3",
   "version": "3.6.5"
  }
 },
 "nbformat": 4,
 "nbformat_minor": 4
}
